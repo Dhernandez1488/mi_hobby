{
  "cells": [
    {
      "cell_type": "markdown",
      "metadata": {
        "id": "view-in-github",
        "colab_type": "text"
      },
      "source": [
        "<a href=\"https://colab.research.google.com/github/Dhernandez1488/mi_hobby/blob/main/Copia_de_PPS_recuperaci%C3%B3n_Actividad_4_Intro_analisis.ipynb\" target=\"_parent\"><img src=\"https://colab.research.google.com/assets/colab-badge.svg\" alt=\"Open In Colab\"/></a>"
      ]
    },
    {
      "cell_type": "markdown",
      "id": "60d1c9e3-34d4-4278-9b6f-6deaa18bfa16",
      "metadata": {
        "id": "60d1c9e3-34d4-4278-9b6f-6deaa18bfa16"
      },
      "source": [
        "# Prácticas Profesionalizantes 2024\n",
        "EEST 9\n",
        "\n",
        "# Actividad\n",
        "\n",
        "#Conociendo qué es un dataset y qué datos contiene"
      ]
    },
    {
      "cell_type": "markdown",
      "source": [
        "## Trabajo en grupo entre 2 o 3 estudiantes\n",
        "Indicar los nombres y los links de los repositorios de la actividad 3 de los integrantes:\n",
        "* nombre - repositorio"
      ],
      "metadata": {
        "id": "HyDvHWoNS--n"
      },
      "id": "HyDvHWoNS--n"
    },
    {
      "cell_type": "markdown",
      "source": [
        "# Parte 1"
      ],
      "metadata": {
        "id": "Nnb6G-PBrCdr"
      },
      "id": "Nnb6G-PBrCdr"
    },
    {
      "cell_type": "markdown",
      "id": "c16a0c86-50c0-44e7-b04c-bd96ecd19c71",
      "metadata": {
        "id": "c16a0c86-50c0-44e7-b04c-bd96ecd19c71"
      },
      "source": [
        "## 1.Investigue los siguientes sitios\n",
        "¿Qué formatos de archivos encuentra?\n",
        "* Datos Argentina https://www.datos.gob.ar\n",
        "* Censo 2022: https://censo.gob.ar/\n",
        "* Ministerio de Defensa: https://www.ign.gob.ar/NuestrasActividades/InformacionGeoespacial/CapasSIG\n",
        "* kaggle: https://www.kaggle.com/\n",
        "* World Data: https://ourworldindata.org/\n",
        "* Statista: https://www.statista.com/statistics/1401035/uk-social-media-users-by-education/\n",
        "\n"
      ]
    },
    {
      "cell_type": "markdown",
      "id": "e263e83a-b4ce-4b31-a5b6-39e2fa262c0f",
      "metadata": {
        "id": "e263e83a-b4ce-4b31-a5b6-39e2fa262c0f"
      },
      "source": [
        "#Responder\n",
        "RESPUESTA:\n",
        "DATOS ARGENTINA:CVS,XLSX,JSON,XML,PDF.\n",
        "\n",
        "CENSO 2022:PDF,XLSX,CVS\n",
        "\n",
        "MINISTERIO DE DEFENSA:SHP,KML, KMZ,geoTIFF,GDB,PDF\n",
        "\n",
        "KANGGLE:CVS,JSON,SQlite,ZIP,Jupyter Notebooks(IPYNB),PDF\n",
        "\n",
        "WORLD DATA:CVS,Exel(XLSX).\n",
        "\n",
        "STATISTA:PDF,XLS,PNG,PPT.\n"
      ]
    },
    {
      "cell_type": "markdown",
      "id": "bb442f67-f07c-47ac-a502-c66215752936",
      "metadata": {
        "id": "bb442f67-f07c-47ac-a502-c66215752936"
      },
      "source": [
        "## 2.¿Con qué programas podemos abrir estos archivos?\n",
        "* **Nota**: probar abrir con el bloc de notas o editar de texto simple"
      ]
    },
    {
      "cell_type": "markdown",
      "id": "bd04e348-52c0-46fb-89a2-2eec4ab636c6",
      "metadata": {
        "id": "bd04e348-52c0-46fb-89a2-2eec4ab636c6"
      },
      "source": [
        "#Respuesta\n",
        "\n",
        "CSV (Comma-Separated Values)\n",
        "\n",
        "Programas: Excel, Google Sheets, LibreOffice Calc, Notepad, TextEdit\n",
        "JSON (JavaScript Object Notation)\n",
        "\n",
        "Programas: Visual Studio Code, Sublime Text, Notepad, Notepad++, TextEdit\n",
        "XML (eXtensible Markup Language)\n",
        "\n",
        "Programas: Excel, Visual Studio Code, Notepad, Notepad++, TextEdit\n",
        "XLSX (Excel Spreadsheet)\n",
        "\n",
        "Programas: Excel, Google Sheets, LibreOffice Calc\n",
        "Shapefile (SHP)\n",
        "\n",
        "Programas: QGIS, ArcGIS\n",
        "GeoPackage (GPKG)\n",
        "\n",
        "Programas: QGIS, ArcGIS\n",
        "KML (Keyhole Markup Language)\n",
        "\n",
        "Programas: Google Earth, QGIS\n",
        "GeoJSON\n",
        "\n",
        "Programas: QGIS, Visual Studio Code, Notepad++, TextEdit\n",
        "SQL (Structured Query Language)\n",
        "\n",
        "Programas: MySQL Workbench, pgAdmin, Visual Studio\n",
        "Para abrir los diferentes formatos de archivos mencionados, puedes utilizar los siguientes programas:\n",
        "\n",
        "CSV (Comma-Separated Values)\n",
        "\n",
        "Programas: Microsoft Excel, Google Sheets, LibreOffice Calc, Notepad, TextEdit, cualquier editor de texto simple.\n",
        "JSON (JavaScript Object Notation)\n",
        "\n",
        "Programas: Visual Studio Code, Sublime Text, Notepad++, Notepad, TextEdit, cualquier editor de texto simple.\n",
        "XML (eXtensible Markup Language)\n",
        "\n",
        "Programas: Microsoft Excel, Visual Studio Code, Sublime Text, Notepad++, Notepad, TextEdit, cualquier editor de texto simple.\n",
        "XLSX (Excel Spreadsheet)\n",
        "\n",
        "Programas: Microsoft Excel, Google Sheets, LibreOffice Calc.\n",
        "Shapefile (SHP)\n",
        "\n",
        "Programas: QGIS, ArcGIS.\n",
        "GeoPackage (GPKG)\n",
        "\n",
        "Programas: QGIS, ArcGIS.\n",
        "KML (Keyhole Markup Language)\n",
        "\n",
        "Programas: Google Earth, QGIS, cualquier editor de texto simple para ver su estructura.\n",
        "GeoJSON\n",
        "\n",
        "Programas: QGIS, Visual Studio Code, Sublime Text, Notepad++, Notepad, TextEdit, cualquier editor de texto simple.\n",
        "SQL (Structured Query Language)\n",
        "\n",
        "Programas: MySQL Workbench, pgAdmin, Visual Studio Code, cualquier editor de texto simple para ver su estructura.\n",
        "ZIP\n",
        "\n",
        "Programas: WinRAR, 7-Zip, WinZip, sistema de archivos de Windows o macOS.\n",
        "XLS\n",
        "\n",
        "Programas: Microsoft Excel, Google Sheets, LibreOffice Calc.\n",
        "PPT (PowerPoint Presentation)\n",
        "\n",
        "Programas: Microsoft PowerPoint, Google Slides, LibreOffice Impress.\n",
        "PDF (Portable Document Format)\n",
        "\n",
        "Programas: Adobe Acrobat Reader, Foxit Reader, cualquier navegador web.\n",
        "PNG (Portable Network Graphics)\n",
        "\n",
        "Programas: Microsoft Paint, Adobe Photoshop, GIMP, cualquier visor de imágenes.\n",
        "Para abrir estos archivos en editores de texto simples como Notepad o TextEdit, puedes hacerlo, aunque la legibilidad y el formato pueden no ser los mejores, especialmente para archivos binarios como XLSX, SHP, y otros archivos complejos. Archivos como CSV, JSON, XML y KML son más adecuados para abrirse en editores de texto simples."
      ]
    },
    {
      "cell_type": "markdown",
      "id": "256a0a45-b30c-47e9-afe7-5770561184c1",
      "metadata": {
        "id": "256a0a45-b30c-47e9-afe7-5770561184c1"
      },
      "source": [
        "## 3.¿Cuál es la diferencia de abrirlo con una aplicación o con python?"
      ]
    },
    {
      "cell_type": "markdown",
      "source": [
        "Cuando se abre con una aplicacion es util para ver o cambiar los contenidos del archivo manualmente. En cambio cuando se abre con Python es mas para analizar los datos de forma automatizada (es decir el mismo proceso sean 10 datos o 100000). Sirve mas para cuando hay grandes cantidades de datos que seria dificil manejarlos manualmente."
      ],
      "metadata": {
        "id": "j6jCz0tF-irM"
      },
      "id": "j6jCz0tF-irM"
    },
    {
      "cell_type": "code",
      "execution_count": null,
      "id": "7dc56acf-c2ad-4a03-b64e-1ea43c173c04",
      "metadata": {
        "id": "7dc56acf-c2ad-4a03-b64e-1ea43c173c04",
        "colab": {
          "base_uri": "https://localhost:8080/"
        },
        "outputId": "7a4ebbdc-c7db-4295-88e9-d8bc3a3eab58"
      },
      "outputs": [
        {
          "output_type": "stream",
          "name": "stdout",
          "text": [
            "HOLA JUSTO\n",
            "si\n"
          ]
        }
      ],
      "source": [
        "print(\"HOLA \")\n",
        "print(\"si\")"
      ]
    },
    {
      "cell_type": "markdown",
      "id": "6b138c5d-1fc8-49e5-a757-ccceb60d3b60",
      "metadata": {
        "id": "6b138c5d-1fc8-49e5-a757-ccceb60d3b60"
      },
      "source": [
        "## 4.¿Cuáles son formatos abiertos y cuáles no ?"
      ]
    },
    {
      "cell_type": "markdown",
      "source": [
        "Formatos abiertos:\n",
        "\n",
        "    CSV\n",
        "    JSON\n",
        "    XML\n",
        "    KML/KMZ\n",
        "    SQLite\n",
        "    geoTIFF\n",
        "\n",
        "Formatos no abiertos:\n",
        "\n",
        "    XLSX\n",
        "    PDF\n",
        "    SHP\n",
        "    GDB\n",
        "    ZIP\n",
        "    IPYNB\n",
        "    PPT\n",
        "    PNG"
      ],
      "metadata": {
        "id": "aTZaac_aR2Br"
      },
      "id": "aTZaac_aR2Br"
    },
    {
      "cell_type": "code",
      "source": [],
      "metadata": {
        "id": "wJp2OM9Z_fPo"
      },
      "id": "wJp2OM9Z_fPo",
      "execution_count": null,
      "outputs": []
    },
    {
      "cell_type": "raw",
      "id": "f0933702-e5d0-4c7d-9790-7a58ad8c0a41",
      "metadata": {
        "id": "f0933702-e5d0-4c7d-9790-7a58ad8c0a41"
      },
      "source": [
        "#Respuesta\n",
        "\n",
        "---\n",
        "\n",
        "\n",
        "Formatos abiertos:\n",
        "\n",
        "    CSV\n",
        "    JSON\n",
        "    XML\n",
        "    KML/KMZ\n",
        "    SQLite\n",
        "    geoTIFF\n",
        "\n",
        "Formatos no abiertos:\n",
        "\n",
        "    XLSX\n",
        "    PDF\n",
        "    SHP\n",
        "    GDB\n",
        "    ZIP\n",
        "    IPYNB\n",
        "    PPT\n",
        "    PNG"
      ]
    },
    {
      "cell_type": "markdown",
      "id": "44b5c704-a31d-4ce7-9737-8e10a279fbd3",
      "metadata": {
        "id": "44b5c704-a31d-4ce7-9737-8e10a279fbd3"
      },
      "source": [
        "## 5.Descargue uno de los siguientes archivos y responda las siguientes preguntas\n",
        "* [Aeropuertos Argentina](https://ourairports.com/countries/AR/airports.csv)\n",
        "* [Áreas protegidas](https://dnsg.ign.gob.ar/apps/api/v1/capas-sig/Geodesia+y+demarcaci%C3%B3n/L%C3%ADmites/area_protegida/csv)\n",
        "* [Conectivdad Argentina](https://datos.gob.ar/dataset/enacom-conectividad-al-servicio-internet/archivo/enacom_CONEC-AL-SERVI-DE-INTER_0)\n",
        "* [Lagos Argentinos](https://drive.google.com/file/d/1IrQhlI15z449f0qO82QVCkkjHvVoqBJ1/view?usp=sharing). Sitio de donde se descargó manualmente: https://www.ign.gob.ar/NuestrasActividades/Geografia/DatosArgentina/Lagos\n",
        "* [Concurrencia a Parque Nacionales](https://www.datos.gob.ar/dataset/turismo-parques-nacionales/archivo/turismo_a570af75-ed33-427c-9797-980fc0cd8fd1)\n",
        "* [Datos sobre consumo cultural](https://datos.cultura.gob.ar/dataset/encuesta-nacional-de-consumos-culturales)"
      ]
    },
    {
      "cell_type": "markdown",
      "id": "30c4171e-6213-4948-a7eb-a1e128a0bab6",
      "metadata": {
        "id": "30c4171e-6213-4948-a7eb-a1e128a0bab6"
      },
      "source": [
        "## 6.Abra el dataset con una  aplicación a elección\n",
        "* Indique la cantidad de:\n",
        "    * filas\n",
        "    * columnas\n",
        "* Indique cuáles y cuántos valores únicos contiene la **columna especificada** según el dataset elegido."
      ]
    },
    {
      "cell_type": "markdown",
      "source": [
        " concurrencia a parques nacionales tiene 586 filas y 4 columnas"
      ],
      "metadata": {
        "id": "VkCnLDq_WeWk"
      },
      "id": "VkCnLDq_WeWk"
    },
    {
      "cell_type": "markdown",
      "id": "cc3f89e1-69f0-4ce0-b84f-8010b2c7b20a",
      "metadata": {
        "id": "cc3f89e1-69f0-4ce0-b84f-8010b2c7b20a"
      },
      "source": [
        "* Aeropuertos Argentina:type\n",
        "* Áreas protegidas: tap   \n",
        "* Conectivdad Argentina: elegir una de las tecnologías: ADSL \tCABLEMODEM \tDIALUP \tFIBRAOPTICA \tSATELITAL \tWIRELESS \tTELEFONIAFIJA\n",
        "* Lagos Argentinos: Ubicación\n",
        "* Concurrencia a Parque Nacionales:origen_visitantes\n",
        "* Datos sobre consumo cultural: p4\n"
      ]
    },
    {
      "cell_type": "markdown",
      "id": "07e06e15-5983-422d-8c6f-e024e0b4d490",
      "metadata": {
        "id": "07e06e15-5983-422d-8c6f-e024e0b4d490"
      },
      "source": [
        "# 7.Relevamiento sitios datos abiertos\n",
        "Completar en un formulario las siguientes consultas:\n",
        "\n",
        "* Buscar otros portales o sitios con datos abiertos y completar con la siguiente información de cada uno:\n",
        "    * url\n",
        "    * Jurisdicción\n",
        "    * Tipo de archivos encontrados\n",
        "    * Descripción sobre los datos\n",
        "* Completar con tres por o menos, cumnpliendo con:\n",
        "    * Uno de Argentina\n",
        "    * Uno del resto de América\n",
        "    * Uno del resto del mundo\n",
        "* Las respuestas tienen que completarse en el formulario:\n",
        "https://docs.google.com/forms/d/e/1FAIpQLSf5mCu_emLW5s-s2sDPPYq-OdBeFiyCuMlEWHkHrWQhETY7aA/viewform?usp=sf_link\n",
        "\n",
        "* Verificar en la [planilla](https://docs.google.com/spreadsheets/d/1pmR_38axDHaZzRvmX2l-4HNuKvNVUhwSkK9sO_mFneY/edit?usp=sharing) que se va completando que no esté ya el sitio que va a informar"
      ]
    },
    {
      "cell_type": "markdown",
      "id": "9e86b6c1-29d7-4600-af80-8c447c38c0f7",
      "metadata": {
        "id": "9e86b6c1-29d7-4600-af80-8c447c38c0f7"
      },
      "source": []
    },
    {
      "cell_type": "markdown",
      "id": "afa5595a-604a-440f-beea-ce1e26a118e4",
      "metadata": {
        "id": "afa5595a-604a-440f-beea-ce1e26a118e4"
      },
      "source": [
        "# Ordenar\n",
        "Trabajemos con el archivo del último censo, el archivo fue modificado para ser más fácil su análisis\n",
        "* [Censo 2022]('files/c2022_tp_c_resumen_adaptado.csv')\n"
      ]
    },
    {
      "cell_type": "markdown",
      "id": "abb442f5-324f-43e9-b4c6-0c9b036f7dcd",
      "metadata": {
        "id": "abb442f5-324f-43e9-b4c6-0c9b036f7dcd"
      },
      "source": [
        "### Censo 2022: Total de población\n",
        "* Ordenar las jurisdicciones de mayor a menor población."
      ]
    },
    {
      "cell_type": "code",
      "source": [],
      "metadata": {
        "id": "SS-ftW1DcKwX"
      },
      "id": "SS-ftW1DcKwX",
      "execution_count": null,
      "outputs": []
    },
    {
      "cell_type": "code",
      "execution_count": null,
      "id": "5118a203-8438-4b49-9b46-d6a0141f940c",
      "metadata": {
        "id": "5118a203-8438-4b49-9b46-d6a0141f940c",
        "colab": {
          "base_uri": "https://localhost:8080/"
        },
        "outputId": "2ff6b7fd-f707-4de3-ec33-9cccb23d2de0"
      },
      "outputs": [
        {
          "output_type": "stream",
          "name": "stdout",
          "text": [
            "Tierra_del_Fuego_Antartita_e_Islas_Del_Antlatico_Sur: 185732\n",
            "La_Rioja: 333642\n",
            "La_Pampa: 359048\n",
            "Catamarca: 429562\n",
            "Formosa: 527895\n",
            "San_luis: 542069\n",
            "Chubut: 592621\n",
            "Neuquen: 710814\n",
            "Rio_Negro: 750768\n",
            "Jujuy: 755441\n",
            "San_Juan: 822853\n",
            "Santiago_del_Estero: 1060906\n",
            "Chaco: 1129606\n",
            "Corrientes: 1212696\n",
            "Misiones: 1278838\n",
            "Entre_Ríos: 1307408\n",
            "Salta: 1441351\n",
            "Tucuman: 1731820\n",
            "Mendoza: 2096019\n",
            "Ciudad_Autónoma_de_Buenos_Aires: 3121707\n",
            "Santa_Fe: 3544908\n",
            "Córdoba: 3840905\n",
            "Buenos_Aires: 17523996\n"
          ]
        }
      ],
      "source": [
        "datos_poblacion = {\n",
        "    'Ciudad_Autónoma_de_Buenos_Aires': 3121707,\n",
        "    'Buenos_Aires': 17523996,\n",
        "    'Catamarca': 429562,\n",
        "    'Chaco': 1129606,\n",
        "    'Chubut': 592621,\n",
        "    'Córdoba': 3840905,\n",
        "    'Corrientes': 1212696,\n",
        "    'Entre_Ríos': 1307408,\n",
        "    'Formosa': 527895,\n",
        "    'Jujuy': 755441,\n",
        "    'La_Pampa': 359048,\n",
        "    'La_Rioja': 333642,\n",
        "    'Mendoza': 2096019,\n",
        "    'Misiones': 1278838,\n",
        "    'Neuquen': 710814,\n",
        "    'Rio_Negro': 750768,\n",
        "    'Salta': 1441351,\n",
        "    'San_Juan': 822853,\n",
        "    'San_luis': 542069,\n",
        "    'Santa_Fe': 3544908,\n",
        "    'Santiago_del_Estero': 1060906,\n",
        "    'Tierra_del_Fuego_Antartita_e_Islas_Del_Antlatico_Sur': 185732,\n",
        "    'Tucuman': 1731820\n",
        "}\n",
        "datos_poblacion_ordenados = dict(sorted(datos_poblacion.items(), key=lambda item: item[1]))\n",
        "for region, poblacion in datos_poblacion_ordenados.items():\n",
        "    print(f\"{region}: {poblacion}\")"
      ]
    }
  ],
  "metadata": {
    "kernelspec": {
      "display_name": "Python 3 (ipykernel)",
      "language": "python",
      "name": "python3"
    },
    "language_info": {
      "codemirror_mode": {
        "name": "ipython",
        "version": 3
      },
      "file_extension": ".py",
      "mimetype": "text/x-python",
      "name": "python",
      "nbconvert_exporter": "python",
      "pygments_lexer": "ipython3",
      "version": "3.10.12"
    },
    "colab": {
      "provenance": [],
      "include_colab_link": true
    }
  },
  "nbformat": 4,
  "nbformat_minor": 5
}