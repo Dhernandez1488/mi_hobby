{
  "nbformat": 4,
  "nbformat_minor": 0,
  "metadata": {
    "colab": {
      "provenance": [],
      "include_colab_link": true
    },
    "kernelspec": {
      "name": "python3",
      "display_name": "Python 3"
    },
    "language_info": {
      "name": "python"
    }
  },
  "cells": [
    {
      "cell_type": "markdown",
      "metadata": {
        "id": "view-in-github",
        "colab_type": "text"
      },
      "source": [
        "<a href=\"https://colab.research.google.com/github/Dhernandez1488/mi_hobby/blob/main/Copia_de_Actividad_2.ipynb\" target=\"_parent\"><img src=\"https://colab.research.google.com/assets/colab-badge.svg\" alt=\"Open In Colab\"/></a>"
      ]
    },
    {
      "cell_type": "markdown",
      "source": [
        "# Actividad 2"
      ],
      "metadata": {
        "id": "Vdl_txP_7LtD"
      }
    },
    {
      "cell_type": "markdown",
      "source": [
        "## Trabajo en grupo entre 2 o 3 estudiantes\n",
        "Indicar los nombres y los links de los repositorios de la actividad 1 de los integrantes:\n",
        "* nombre - repositorio"
      ],
      "metadata": {
        "id": "Pxb1o18H7UKU"
      }
    },
    {
      "cell_type": "markdown",
      "source": [
        "# Python y Colab\n",
        "* Se utilizará **Python** y este documento de **Google Colab** para resolver el ejercicio.\n",
        "* Para que la tarea se considere entregada se deberá poner el link del documento colab, con las soluciones, en la tarea de **todos** los integrantes.\n",
        "\n",
        "El ejercicio es **procesar texto** largo para identificar líenas, caracteres específicos.\n",
        "\n",
        "1. Se deberá realizar una **copia** de este documento antes de comenzar a modificar\n",
        "2. A lo largo del docuemtno se pedirá que responda preguntas y realice código, completar en la copia realizada con lo solicitado.\n",
        "3. Copiar el texto de los archivos subidos en los repositorios individuales utilizados en la actividad 1,  de cada integrante de este grupo en una sola **variable de texto.**\n",
        "\n"
      ],
      "metadata": {
        "id": "kufnxVG474V2"
      }
    },
    {
      "cell_type": "code",
      "source": [
        "# completar con sus textos\n",
        "\n",
        "#texto_completo es la variable donde estan los dos documentos y es de tipo \"STR\" STRING\n",
        "texto_completo = '''Titulo: Ciclismo\n",
        "Diversión: el ciclismo realmente me encanta por que es una forma de hacer ejercicio y no gastar dinero en el colectivo (principalmene por no gaster dinero)\n",
        "\n",
        "Familia: con mi familia comparto este hobby con mi hermano franco y mi hermana luciana(no manejan todos los dias pero algo es algo)\n",
        "\n",
        "Amigos: de lunes a viernes salgo a bicicletear pero con mis amigos normalmente 1 vez al mes salgo a majenar con ellos\n",
        "\n",
        "Medios: normalmente busco información en infoBiker(infobiker.com.ar) o tambien busco iformacion en instagram en el grupo ciclista @la_plata_pedalea\n",
        "\n",
        "Tecnología: Desde bicicletas inteligentes hasta aplicaciones de entrenamiento personalizadas, dispositivos de navegación GPS y vestimenta y accesorios inteligentes, los avances tecnológicos han brindado a los ciclistas herramientas innovadoras para mejorar su rendimiento y experiencia en la bicicleta. La tecnología también ha permitido un análisis detallado del rendimiento, la capacidad de establecer metas personalizadas y un seguimiento preciso del progreso. Mantenerse actualizado sobre estas tendencias tecnológicas y compartir información relevante con los lectores de tu blog de ciclismo puede ser muy beneficioso para aquellos que buscan mejorar su experiencia en la bicicleta y maximizar su potencial en este deporte ejp bicicletas electricas,relojes intenligentes,lectores de frecuencia cardiaca,etc. El 71% de hombres practican el ciclismos y el 29% de mujeres tambien. pero los usuarios de bicicletas representan el 4% del pais.\n",
        "Titulo: La musica\n",
        "Diversión: La musica me deja una sensación de felicidad alegria y mucha pasion, trate de romance, perdida, cuente una historia o hable con metaforas, es una sensación que no se puede describir\n",
        "\n",
        "Familia: Comparto gustos de ciertas canciones pero en mi familia soy el único que toca instrumentos\n",
        "\n",
        "Amigos: En ciertas ocasiones nada más, es muy raro que se de el compartir mi gudto por la musica\n",
        "\n",
        "Medios: Youtube, YT music y diversas paginas, por ejemplo cuando quiero ver las tablaturas de una cancion busco y reviso varias versiones para ver cual es la mejor y la que mas se acerca\n",
        "\n",
        "Tecnología: En cuestiones de aprendizaje de tecnicas, acordes, lectura de tablaturas, en todo el aprendizaje ya que antes se tenia que ir a escuelas especificadas en eso, profesores privados o lugares publicos que enseñaban como el conservatorio de la Plata a veces quedando demasiado lejos'''\n",
        "#texto_completo es la variable donde estan los dos documentos y es de tipo \"STR\" STRING\n",
        "print(\"la variabe texto_completo es de tipo:\",type(texto_completo)),print(texto_completo)\n",
        "\n"
      ],
      "metadata": {
        "id": "_y9xVFhj9Heq",
        "colab": {
          "base_uri": "https://localhost:8080/"
        },
        "outputId": "0a012b29-874b-4467-e8f9-1d105fe7bd70"
      },
      "execution_count": 8,
      "outputs": [
        {
          "output_type": "stream",
          "name": "stdout",
          "text": [
            "la variabe texto_completo es de tipo: <class 'str'>\n",
            "Titulo: Ciclismo\n",
            "Diversión: el ciclismo realmente me encanta por que es una forma de hacer ejercicio y no gastar dinero en el colectivo (principalmene por no gaster dinero)\n",
            "\n",
            "Familia: con mi familia comparto este hobby con mi hermano franco y mi hermana luciana(no manejan todos los dias pero algo es algo)\n",
            "\n",
            "Amigos: de lunes a viernes salgo a bicicletear pero con mis amigos normalmente 1 vez al mes salgo a majenar con ellos\n",
            "\n",
            "Medios: normalmente busco información en infoBiker(infobiker.com.ar) o tambien busco iformacion en instagram en el grupo ciclista @la_plata_pedalea\n",
            "\n",
            "Tecnología: Desde bicicletas inteligentes hasta aplicaciones de entrenamiento personalizadas, dispositivos de navegación GPS y vestimenta y accesorios inteligentes, los avances tecnológicos han brindado a los ciclistas herramientas innovadoras para mejorar su rendimiento y experiencia en la bicicleta. La tecnología también ha permitido un análisis detallado del rendimiento, la capacidad de establecer metas personalizadas y un seguimiento preciso del progreso. Mantenerse actualizado sobre estas tendencias tecnológicas y compartir información relevante con los lectores de tu blog de ciclismo puede ser muy beneficioso para aquellos que buscan mejorar su experiencia en la bicicleta y maximizar su potencial en este deporte ejp bicicletas electricas,relojes intenligentes,lectores de frecuencia cardiaca,etc. El 71% de hombres practican el ciclismos y el 29% de mujeres tambien. pero los usuarios de bicicletas representan el 4% del pais.\n",
            "Titulo: La musica\n",
            "Diversión: La musica me deja una sensación de felicidad alegria y mucha pasion, trate de romance, perdida, cuente una historia o hable con metaforas, es una sensación que no se puede describir\n",
            "\n",
            "Familia: Comparto gustos de ciertas canciones pero en mi familia soy el único que toca instrumentos\n",
            "\n",
            "Amigos: En ciertas ocasiones nada más, es muy raro que se de el compartir mi gudto por la musica\n",
            "\n",
            "Medios: Youtube, YT music y diversas paginas, por ejemplo cuando quiero ver las tablaturas de una cancion busco y reviso varias versiones para ver cual es la mejor y la que mas se acerca\n",
            "\n",
            "Tecnología: En cuestiones de aprendizaje de tecnicas, acordes, lectura de tablaturas, en todo el aprendizaje ya que antes se tenia que ir a escuelas especificadas en eso, profesores privados o lugares publicos que enseñaban como el conservatorio de la Plata a veces quedando demasiado lejos\n"
          ]
        },
        {
          "output_type": "execute_result",
          "data": {
            "text/plain": [
              "(None, None)"
            ]
          },
          "metadata": {},
          "execution_count": 8
        }
      ]
    },
    {
      "cell_type": "code",
      "source": [],
      "metadata": {
        "id": "L_df8b7AISH4"
      },
      "execution_count": null,
      "outputs": []
    },
    {
      "cell_type": "markdown",
      "source": [
        "* Utilice el método **split()** para separar las palabras de la variable texto_completo, guarde el resultado en una variable nueva.\n",
        "* Indique el tipo de dato de la variable nueva utilizando el método **type(variable)**"
      ],
      "metadata": {
        "id": "e8llbqcS5e9c"
      }
    },
    {
      "cell_type": "markdown",
      "source": [
        "* Esta variable es de tipo **string**, podes conocer más en esta [página](https://docs.python.org/es/3/library/string.html).\n",
        "* Podemos saber la longitud con len().\n",
        "```python\n",
        "len(texto_completo)\n",
        "```\n",
        "* Podemos separar por palabras, es decir, generar una lista donde cada palabra sea una elemento con el método split()\n",
        "```python\n",
        "texto_completo.split()\n",
        "```\n",
        "\n",
        "\n"
      ],
      "metadata": {
        "id": "NsW0r4bK9SHH"
      }
    },
    {
      "cell_type": "code",
      "source": [
        "texto_ejemplo = '''Titulo: Ciclismo\n",
        "Diversión: el ciclismo realmente me encanta por que es una forma de hacer ejercicio y no gastar dinero en el colectivo (principalmene por no gaster dinero)\n",
        "\n",
        "Familia: con mi familia comparto este hobby con mi hermano franco y mi hermana luciana(no manejan todos los dias pero algo es algo)\n",
        "\n",
        "Amigos: de lunes a viernes salgo a bicicletear pero con mis amigos normalmente 1 vez al mes salgo a majenar con ellos\n",
        "\n",
        "Medios: normalmente busco información en infoBiker(infobiker.com.ar) o tambien busco iformacion en instagram en el grupo ciclista @la_plata_pedalea\n",
        "\n",
        "Tecnología: Desde bicicletas inteligentes hasta aplicaciones de entrenamiento personalizadas, dispositivos de navegación GPS y vestimenta y accesorios inteligentes, los avances tecnológicos han brindado a los ciclistas herramientas innovadoras para mejorar su rendimiento y experiencia en la bicicleta. La tecnología también ha permitido un análisis detallado del rendimiento, la capacidad de establecer metas personalizadas y un seguimiento preciso del progreso. Mantenerse actualizado sobre estas tendencias tecnológicas y compartir información relevante con los lectores de tu blog de ciclismo puede ser muy beneficioso para aquellos que buscan mejorar su experiencia en la bicicleta y maximizar su potencial en este deporte ejp bicicletas electricas,relojes intenligentes,lectores de frecuencia cardiaca,etc. El 71% de hombres practican el ciclismos y el 29% de mujeres tambien. pero los usuarios de bicicletas representan el 4% del pais.\n",
        "Titulo: La musica\n",
        "Diversión: La musica me deja una sensación de felicidad alegria y mucha pasion, trate de romance, perdida, cuente una historia o hable con metaforas, es una sensación que no se puede describir\n",
        "\n",
        "Familia: Comparto gustos de ciertas canciones pero en mi familia soy el único que toca instrumentos\n",
        "\n",
        "Amigos: En ciertas ocasiones nada más, es muy raro que se de el compartir mi gudto por la musica\n",
        "\n",
        "Medios: Youtube, YT music y diversas paginas, por ejemplo cuando quiero ver las tablaturas de una cancion busco y reviso varias versiones para ver cual es la mejor y la que mas se acerca\n",
        "\n",
        "Tecnología: En cuestiones de aprendizaje de tecnicas, acordes, lectura de tablaturas, en todo el aprendizaje ya que antes se tenia que ir a escuelas especificadas en eso, profesores privados o lugares publicos que enseñaban como el conservatorio de la Plata a veces quedando demasiado lejos'''\n",
        "lista_palabras = texto_ejemplo.split()\n",
        "print(lista_palabras)"
      ],
      "metadata": {
        "id": "RHoorckM9-5U"
      },
      "execution_count": null,
      "outputs": []
    },
    {
      "cell_type": "code",
      "source": [
        "#completar con el código que separa la variable texto_compelto teniendo en cuenta el caracter \":\"\n",
        "texto_completo = '''Titulo: Ciclismo\n",
        "Diversión: el ciclismo realmente me encanta por que es una forma de hacer ejercicio y no gastar dinero en el colectivo (principalmene por no gaster dinero)\n",
        "\n",
        "Familia: con mi familia comparto este hobby con mi hermano franco y mi hermana luciana(no manejan todos los dias pero algo es algo)\n",
        "\n",
        "Amigos: de lunes a viernes salgo a bicicletear pero con mis amigos normalmente 1 vez al mes salgo a majenar con ellos\n",
        "\n",
        "Medios: normalmente busco información en infoBiker(infobiker.com.ar) o tambien busco iformacion en instagram en el grupo ciclista @la_plata_pedalea\n",
        "\n",
        "Tecnología: Desde bicicletas inteligentes hasta aplicaciones de entrenamiento personalizadas, dispositivos de navegación GPS y vestimenta y accesorios inteligentes, los avances tecnológicos han brindado a los ciclistas herramientas innovadoras para mejorar su rendimiento y experiencia en la bicicleta. La tecnología también ha permitido un análisis detallado del rendimiento, la capacidad de establecer metas personalizadas y un seguimiento preciso del progreso. Mantenerse actualizado sobre estas tendencias tecnológicas y compartir información relevante con los lectores de tu blog de ciclismo puede ser muy beneficioso para aquellos que buscan mejorar su experiencia en la bicicleta y maximizar su potencial en este deporte ejp bicicletas electricas,relojes intenligentes,lectores de frecuencia cardiaca,etc. El 71% de hombres practican el ciclismos y el 29% de mujeres tambien. pero los usuarios de bicicletas representan el 4% del pais.\n",
        "Titulo: La musica\n",
        "Diversión: La musica me deja una sensación de felicidad alegria y mucha pasion, trate de romance, perdida, cuente una historia o hable con metaforas, es una sensación que no se puede describir\n",
        "\n",
        "Familia: Comparto gustos de ciertas canciones pero en mi familia soy el único que toca instrumentos\n",
        "\n",
        "Amigos: En ciertas ocasiones nada más, es muy raro que se de el compartir mi gudto por la musica\n",
        "\n",
        "Medios: Youtube, YT music y diversas paginas, por ejemplo cuando quiero ver las tablaturas de una cancion busco y reviso varias versiones para ver cual es la mejor y la que mas se acerca\n",
        "\n",
        "Tecnología: En cuestiones de aprendizaje de tecnicas, acordes, lectura de tablaturas, en todo el aprendizaje ya que antes se tenia que ir a escuelas especificadas en eso, profesores privados o lugares publicos que enseñaban como el conservatorio de la Plata a veces quedando demasiado lejos'''\n",
        "\n",
        "lista_texto = texto_completo.split(\":\")\n",
        "print(lista_texto)\n",
        "#completar con el código indicando la longitud de la nueva variable\n",
        "print(\"La longitud de la nueva variales es:\",len(lista_texto),\"de tipo\",(type(lista_texto)))"
      ],
      "metadata": {
        "id": "IxqvPv2r61y2",
        "colab": {
          "base_uri": "https://localhost:8080/"
        },
        "outputId": "c9058fc7-7e19-4ae5-bea3-992d4da63fb5"
      },
      "execution_count": 9,
      "outputs": [
        {
          "output_type": "stream",
          "name": "stdout",
          "text": [
            "['Titulo', ' Ciclismo\\nDiversión', ' el ciclismo realmente me encanta por que es una forma de hacer ejercicio y no gastar dinero en el colectivo (principalmene por no gaster dinero)\\n\\nFamilia', ' con mi familia comparto este hobby con mi hermano franco y mi hermana luciana(no manejan todos los dias pero algo es algo)\\n\\nAmigos', ' de lunes a viernes salgo a bicicletear pero con mis amigos normalmente 1 vez al mes salgo a majenar con ellos\\n\\nMedios', ' normalmente busco información en infoBiker(infobiker.com.ar) o tambien busco iformacion en instagram en el grupo ciclista @la_plata_pedalea\\n\\nTecnología', ' Desde bicicletas inteligentes hasta aplicaciones de entrenamiento personalizadas, dispositivos de navegación GPS y vestimenta y accesorios inteligentes, los avances tecnológicos han brindado a los ciclistas herramientas innovadoras para mejorar su rendimiento y experiencia en la bicicleta. La tecnología también ha permitido un análisis detallado del rendimiento, la capacidad de establecer metas personalizadas y un seguimiento preciso del progreso. Mantenerse actualizado sobre estas tendencias tecnológicas y compartir información relevante con los lectores de tu blog de ciclismo puede ser muy beneficioso para aquellos que buscan mejorar su experiencia en la bicicleta y maximizar su potencial en este deporte ejp bicicletas electricas,relojes intenligentes,lectores de frecuencia cardiaca,etc. El 71% de hombres practican el ciclismos y el 29% de mujeres tambien. pero los usuarios de bicicletas representan el 4% del pais.\\nTitulo', ' La musica\\nDiversión', ' La musica me deja una sensación de felicidad alegria y mucha pasion, trate de romance, perdida, cuente una historia o hable con metaforas, es una sensación que no se puede describir\\n\\nFamilia', ' Comparto gustos de ciertas canciones pero en mi familia soy el único que toca instrumentos\\n\\nAmigos', ' En ciertas ocasiones nada más, es muy raro que se de el compartir mi gudto por la musica\\n\\nMedios', ' Youtube, YT music y diversas paginas, por ejemplo cuando quiero ver las tablaturas de una cancion busco y reviso varias versiones para ver cual es la mejor y la que mas se acerca\\n\\nTecnología', ' En cuestiones de aprendizaje de tecnicas, acordes, lectura de tablaturas, en todo el aprendizaje ya que antes se tenia que ir a escuelas especificadas en eso, profesores privados o lugares publicos que enseñaban como el conservatorio de la Plata a veces quedando demasiado lejos']\n",
            "La longitud de la nueva variales es: 13 de tipo <class 'list'>\n"
          ]
        }
      ]
    },
    {
      "cell_type": "markdown",
      "source": [
        "*  Indique con qué método se puede sacar los espacios que tiene un texto adelante o atrás, como se ve en ejemplo de abajo.\n",
        "\n",
        "\"  texto con espacio             \" -> \"texto con espacio\""
      ],
      "metadata": {
        "id": "-52ubwhNAuBv"
      }
    },
    {
      "cell_type": "code",
      "source": [
        "#completar con el código ejemplo utilizando el método correspondiente\n",
        "texto1=\"        _texto_con_espacio_       \"\n",
        "texto2=\"texto_sin_espacio\"\n",
        "print(\"los_dos_textos_sin_el_metodo_strip\",texto1+texto2,)\n",
        "print(\"los_dos_textos_con_el_metodo_strip_en_el_texto1\",texto1.strip()+texto2)\n"
      ],
      "metadata": {
        "id": "jMFf3UY3BSm9",
        "colab": {
          "base_uri": "https://localhost:8080/"
        },
        "outputId": "0e6ca091-2a69-48f5-fbbe-98ab1648a208"
      },
      "execution_count": null,
      "outputs": [
        {
          "output_type": "stream",
          "name": "stdout",
          "text": [
            "los_dos_textos_sin_el_metodo_strip         _texto_con_espacio_       texto_sin_espacio\n",
            "los_dos_textos_con_el_metodo_strip_en_el_texto1 _texto_con_espacio_texto_sin_espacio\n"
          ]
        }
      ]
    },
    {
      "cell_type": "markdown",
      "source": [
        "* Indique cómo se puede utilizar el método split() para separar palabras, utilizando como caracter de separación, por ejemplo \":\":\n",
        "\n",
        "\"texto: es una línea de texto\" -> [\"texto\", \"es una línea de texto\"]\n",
        "* Realice la separación del texto de la variable texto_completo y guarde el resultado en una nueva variable.\n",
        "* Indique la longitud de esta nueva variable"
      ],
      "metadata": {
        "id": "6RPs7HOf5IFL"
      }
    },
    {
      "cell_type": "code",
      "source": [
        "#completar con el código\n",
        "#separar el texto en palabras usando split con el caracter \":\"\n",
        "texto_completo='''Titulo: Ciclismo\n",
        "Diversión: el ciclismo realmente me encanta por que es una forma de hacer ejercicio y no gastar dinero en el colectivo (principalmene por no gaster dinero)\n",
        "\n",
        "Familia: con mi familia comparto este hobby con mi hermano franco y mi hermana luciana(no manejan todos los dias pero algo es algo)\n",
        "\n",
        "Amigos: de lunes a viernes salgo a bicicletear pero con mis amigos normalmente 1 vez al mes salgo a majenar con ellos\n",
        "\n",
        "Medios: normalmente busco información en infoBiker(infobiker.com.ar) o tambien busco iformacion en instagram en el grupo ciclista @la_plata_pedalea\n",
        "\n",
        "Tecnología: Desde bicicletas inteligentes hasta aplicaciones de entrenamiento personalizadas, dispositivos de navegación GPS y vestimenta y accesorios inteligentes, los avances tecnológicos han brindado a los ciclistas herramientas innovadoras para mejorar su rendimiento y experiencia en la bicicleta. La tecnología también ha permitido un análisis detallado del rendimiento, la capacidad de establecer metas personalizadas y un seguimiento preciso del progreso. Mantenerse actualizado sobre estas tendencias tecnológicas y compartir información relevante con los lectores de tu blog de ciclismo puede ser muy beneficioso para aquellos que buscan mejorar su experiencia en la bicicleta y maximizar su potencial en este deporte ejp bicicletas electricas,relojes intenligentes,lectores de frecuencia cardiaca,etc. El 71% de hombres practican el ciclismos y el 29% de mujeres tambien. pero los usuarios de bicicletas representan el 4% del pais.\n",
        "Titulo: La musica\n",
        "Diversión: La musica me deja una sensación de felicidad alegria y mucha pasion, trate de romance, perdida, cuente una historia o hable con metaforas, es una sensación que no se puede describir\n",
        "\n",
        "Familia: Comparto gustos de ciertas canciones pero en mi familia soy el único que toca instrumentos\n",
        "\n",
        "Amigos: En ciertas ocasiones nada más, es muy raro que se de el compartir mi gudto por la musica\n",
        "\n",
        "Medios: Youtube, YT music y diversas paginas, por ejemplo cuando quiero ver las tablaturas de una cancion busco y reviso varias versiones para ver cual es la mejor y la que mas se acerca\n",
        "\n",
        "Tecnología: En cuestiones de aprendizaje de tecnicas, acordes, lectura de tablaturas, en todo el aprendizaje ya que antes se tenia que ir a escuelas especificadas en eso, profesores privados o lugares publicos que enseñaban como el conservatorio de la Plata a veces quedando demasiado lejos'''\n",
        "lista_texto=texto_completo.split()\n",
        "print(\"con el metedo split pero sin seperar con el caracter (:)\",lista_texto)\n",
        "lista_texto=texto_completo.split(\":\") #podemos hacer que la lista separe\n",
        "print(\"con el metodo split pero separando con el caracter(:)\",lista_texto)\n",
        "print(\"la longitud de la nueva variables es : \",len(lista_texto))\n",
        "#indicar la longitud de la nueva variable"
      ],
      "metadata": {
        "id": "PFP_9FYP5eFG",
        "colab": {
          "base_uri": "https://localhost:8080/"
        },
        "outputId": "f3b0b36c-23b4-4dd1-a1d8-7478890e7c5a"
      },
      "execution_count": 1,
      "outputs": [
        {
          "output_type": "stream",
          "name": "stdout",
          "text": [
            "con el metedo split pero sin seperar con el caracter (:) ['Titulo:', 'Ciclismo', 'Diversión:', 'el', 'ciclismo', 'realmente', 'me', 'encanta', 'por', 'que', 'es', 'una', 'forma', 'de', 'hacer', 'ejercicio', 'y', 'no', 'gastar', 'dinero', 'en', 'el', 'colectivo', '(principalmene', 'por', 'no', 'gaster', 'dinero)', 'Familia:', 'con', 'mi', 'familia', 'comparto', 'este', 'hobby', 'con', 'mi', 'hermano', 'franco', 'y', 'mi', 'hermana', 'luciana(no', 'manejan', 'todos', 'los', 'dias', 'pero', 'algo', 'es', 'algo)', 'Amigos:', 'de', 'lunes', 'a', 'viernes', 'salgo', 'a', 'bicicletear', 'pero', 'con', 'mis', 'amigos', 'normalmente', '1', 'vez', 'al', 'mes', 'salgo', 'a', 'majenar', 'con', 'ellos', 'Medios:', 'normalmente', 'busco', 'información', 'en', 'infoBiker(infobiker.com.ar)', 'o', 'tambien', 'busco', 'iformacion', 'en', 'instagram', 'en', 'el', 'grupo', 'ciclista', '@la_plata_pedalea', 'Tecnología:', 'Desde', 'bicicletas', 'inteligentes', 'hasta', 'aplicaciones', 'de', 'entrenamiento', 'personalizadas,', 'dispositivos', 'de', 'navegación', 'GPS', 'y', 'vestimenta', 'y', 'accesorios', 'inteligentes,', 'los', 'avances', 'tecnológicos', 'han', 'brindado', 'a', 'los', 'ciclistas', 'herramientas', 'innovadoras', 'para', 'mejorar', 'su', 'rendimiento', 'y', 'experiencia', 'en', 'la', 'bicicleta.', 'La', 'tecnología', 'también', 'ha', 'permitido', 'un', 'análisis', 'detallado', 'del', 'rendimiento,', 'la', 'capacidad', 'de', 'establecer', 'metas', 'personalizadas', 'y', 'un', 'seguimiento', 'preciso', 'del', 'progreso.', 'Mantenerse', 'actualizado', 'sobre', 'estas', 'tendencias', 'tecnológicas', 'y', 'compartir', 'información', 'relevante', 'con', 'los', 'lectores', 'de', 'tu', 'blog', 'de', 'ciclismo', 'puede', 'ser', 'muy', 'beneficioso', 'para', 'aquellos', 'que', 'buscan', 'mejorar', 'su', 'experiencia', 'en', 'la', 'bicicleta', 'y', 'maximizar', 'su', 'potencial', 'en', 'este', 'deporte', 'ejp', 'bicicletas', 'electricas,relojes', 'intenligentes,lectores', 'de', 'frecuencia', 'cardiaca,etc.', 'El', '71%', 'de', 'hombres', 'practican', 'el', 'ciclismos', 'y', 'el', '29%', 'de', 'mujeres', 'tambien.', 'pero', 'los', 'usuarios', 'de', 'bicicletas', 'representan', 'el', '4%', 'del', 'pais.', 'Titulo:', 'La', 'musica', 'Diversión:', 'La', 'musica', 'me', 'deja', 'una', 'sensación', 'de', 'felicidad', 'alegria', 'y', 'mucha', 'pasion,', 'trate', 'de', 'romance,', 'perdida,', 'cuente', 'una', 'historia', 'o', 'hable', 'con', 'metaforas,', 'es', 'una', 'sensación', 'que', 'no', 'se', 'puede', 'describir', 'Familia:', 'Comparto', 'gustos', 'de', 'ciertas', 'canciones', 'pero', 'en', 'mi', 'familia', 'soy', 'el', 'único', 'que', 'toca', 'instrumentos', 'Amigos:', 'En', 'ciertas', 'ocasiones', 'nada', 'más,', 'es', 'muy', 'raro', 'que', 'se', 'de', 'el', 'compartir', 'mi', 'gudto', 'por', 'la', 'musica', 'Medios:', 'Youtube,', 'YT', 'music', 'y', 'diversas', 'paginas,', 'por', 'ejemplo', 'cuando', 'quiero', 'ver', 'las', 'tablaturas', 'de', 'una', 'cancion', 'busco', 'y', 'reviso', 'varias', 'versiones', 'para', 'ver', 'cual', 'es', 'la', 'mejor', 'y', 'la', 'que', 'mas', 'se', 'acerca', 'Tecnología:', 'En', 'cuestiones', 'de', 'aprendizaje', 'de', 'tecnicas,', 'acordes,', 'lectura', 'de', 'tablaturas,', 'en', 'todo', 'el', 'aprendizaje', 'ya', 'que', 'antes', 'se', 'tenia', 'que', 'ir', 'a', 'escuelas', 'especificadas', 'en', 'eso,', 'profesores', 'privados', 'o', 'lugares', 'publicos', 'que', 'enseñaban', 'como', 'el', 'conservatorio', 'de', 'la', 'Plata', 'a', 'veces', 'quedando', 'demasiado', 'lejos']\n",
            "con el metodo split pero separando con el caracter(:) ['Titulo', ' Ciclismo\\nDiversión', ' el ciclismo realmente me encanta por que es una forma de hacer ejercicio y no gastar dinero en el colectivo (principalmene por no gaster dinero)\\n\\nFamilia', ' con mi familia comparto este hobby con mi hermano franco y mi hermana luciana(no manejan todos los dias pero algo es algo)\\n\\nAmigos', ' de lunes a viernes salgo a bicicletear pero con mis amigos normalmente 1 vez al mes salgo a majenar con ellos\\n\\nMedios', ' normalmente busco información en infoBiker(infobiker.com.ar) o tambien busco iformacion en instagram en el grupo ciclista @la_plata_pedalea\\n\\nTecnología', ' Desde bicicletas inteligentes hasta aplicaciones de entrenamiento personalizadas, dispositivos de navegación GPS y vestimenta y accesorios inteligentes, los avances tecnológicos han brindado a los ciclistas herramientas innovadoras para mejorar su rendimiento y experiencia en la bicicleta. La tecnología también ha permitido un análisis detallado del rendimiento, la capacidad de establecer metas personalizadas y un seguimiento preciso del progreso. Mantenerse actualizado sobre estas tendencias tecnológicas y compartir información relevante con los lectores de tu blog de ciclismo puede ser muy beneficioso para aquellos que buscan mejorar su experiencia en la bicicleta y maximizar su potencial en este deporte ejp bicicletas electricas,relojes intenligentes,lectores de frecuencia cardiaca,etc. El 71% de hombres practican el ciclismos y el 29% de mujeres tambien. pero los usuarios de bicicletas representan el 4% del pais.\\nTitulo', ' La musica\\nDiversión', ' La musica me deja una sensación de felicidad alegria y mucha pasion, trate de romance, perdida, cuente una historia o hable con metaforas, es una sensación que no se puede describir\\n\\nFamilia', ' Comparto gustos de ciertas canciones pero en mi familia soy el único que toca instrumentos\\n\\nAmigos', ' En ciertas ocasiones nada más, es muy raro que se de el compartir mi gudto por la musica\\n\\nMedios', ' Youtube, YT music y diversas paginas, por ejemplo cuando quiero ver las tablaturas de una cancion busco y reviso varias versiones para ver cual es la mejor y la que mas se acerca\\n\\nTecnología', ' En cuestiones de aprendizaje de tecnicas, acordes, lectura de tablaturas, en todo el aprendizaje ya que antes se tenia que ir a escuelas especificadas en eso, profesores privados o lugares publicos que enseñaban como el conservatorio de la Plata a veces quedando demasiado lejos']\n",
            "la longitud de la nueva variables es :  13\n"
          ]
        }
      ]
    },
    {
      "cell_type": "markdown",
      "source": [
        "También  se puede usar el método **splitlines()** para separar por cada nueva línea\n",
        "```python\n",
        "texto_ejemplo.splitlines()\n",
        "```"
      ],
      "metadata": {
        "id": "Sf2wlKRMMkB6"
      }
    },
    {
      "cell_type": "markdown",
      "source": [
        "* Generar una nueva variable que guarde el contenido de la variable texto_completo separandolo por nueva línea\n",
        "* Recorrer la lista y encontrar los elementos que contienen el carater \":\".\n",
        "* Consulte la estructura **for** y el **if** en python."
      ],
      "metadata": {
        "id": "Ufy8fwXfO2io"
      }
    },
    {
      "cell_type": "code",
      "source": [
        "# ejemplo del uso del for\n",
        "mi_lista =['a','b','c','d','e','f','g','h']\n",
        "for i in mi_lista:\n",
        "  print(i)"
      ],
      "metadata": {
        "colab": {
          "base_uri": "https://localhost:8080/"
        },
        "id": "YxNomJaGQ696",
        "outputId": "e43b2aca-29e0-4862-c971-b3e91a099eac"
      },
      "execution_count": null,
      "outputs": [
        {
          "output_type": "stream",
          "name": "stdout",
          "text": [
            "a\n",
            "b\n",
            "c\n",
            "d\n",
            "e\n",
            "f\n",
            "g\n",
            "h\n"
          ]
        }
      ]
    },
    {
      "cell_type": "code",
      "source": [
        "#completar acá con el código que permite separar por nueva línea la variable texto_completo, guarde el resultado en una nueva variable\n",
        "texto_completo = '''Titulo: Ciclismo\n",
        "Diversión: el ciclismo realmente me encanta por que es una forma de hacer ejercicio y no gastar dinero en el colectivo (principalmene por no gaster dinero)\n",
        "\n",
        "Familia: con mi familia comparto este hobby con mi hermano franco y mi hermana luciana(no manejan todos los dias pero algo es algo)\n",
        "\n",
        "Amigos: de lunes a viernes salgo a bicicletear pero con mis amigos normalmente 1 vez al mes salgo a majenar con ellos\n",
        "\n",
        "Medios: normalmente busco información en infoBiker(infobiker.com.ar) o tambien busco iformacion en instagram en el grupo ciclista @la_plata_pedalea\n",
        "\n",
        "Tecnología: Desde bicicletas inteligentes hasta aplicaciones de entrenamiento personalizadas, dispositivos de navegación GPS y vestimenta y accesorios inteligentes, los avances tecnológicos han brindado a los ciclistas herramientas innovadoras para mejorar su rendimiento y experiencia en la bicicleta. La tecnología también ha permitido un análisis detallado del rendimiento, la capacidad de establecer metas personalizadas y un seguimiento preciso del progreso. Mantenerse actualizado sobre estas tendencias tecnológicas y compartir información relevante con los lectores de tu blog de ciclismo puede ser muy beneficioso para aquellos que buscan mejorar su experiencia en la bicicleta y maximizar su potencial en este deporte ejp bicicletas electricas,relojes intenligentes,lectores de frecuencia cardiaca,etc. El 71% de hombres practican el ciclismos y el 29% de mujeres tambien. pero los usuarios de bicicletas representan el 4% del pais.\n",
        "Titulo: La musica\n",
        "Diversión: La musica me deja una sensación de felicidad alegria y mucha pasion, trate de romance, perdida, cuente una historia o hable con metaforas, es una sensación que no se puede describir\n",
        "\n",
        "Familia: Comparto gustos de ciertas canciones pero en mi familia soy el único que toca instrumentos\n",
        "\n",
        "Amigos: En ciertas ocasiones nada más, es muy raro que se de el compartir mi gudto por la musica\n",
        "\n",
        "Medios: Youtube, YT music y diversas paginas, por ejemplo cuando quiero ver las tablaturas de una cancion busco y reviso varias versiones para ver cual es la mejor y la que mas se acerca\n",
        "\n",
        "Tecnología: En cuestiones de aprendizaje de tecnicas, acordes, lectura de tablaturas, en todo el aprendizaje ya que antes se tenia que ir a escuelas especificadas en eso, profesores privados o lugares publicos que enseñaban como el conservatorio de la Plata a veces quedando demasiado lejos'''\n",
        "lista_texto = texto_completo.splitlines()\n",
        "#recorrer  la nueva variable imprimiendo cada elemento de la lista\n",
        "\n",
        "#indicar longitud de la nueva variable\n",
        "for i in lista_texto:\n",
        "  print(i)\n",
        "  print(len(lista_texto))\n"
      ],
      "metadata": {
        "id": "_AXZG7MKRQji",
        "colab": {
          "base_uri": "https://localhost:8080/"
        },
        "outputId": "bf0236a1-7b6e-4198-ea79-78da147fdd3b"
      },
      "execution_count": null,
      "outputs": [
        {
          "output_type": "stream",
          "name": "stdout",
          "text": [
            "<class 'list'>\n",
            "Titulo: Ciclismo\n",
            "Diversión: el ciclismo realmente me encanta por que es una forma de hacer ejercicio y no gastar dinero en el colectivo (principalmene por no gaster dinero)\n",
            "\n",
            "Familia: con mi familia comparto este hobby con mi hermano franco y mi hermana luciana(no manejan todos los dias pero algo es algo)\n",
            "\n",
            "Amigos: de lunes a viernes salgo a bicicletear pero con mis amigos normalmente 1 vez al mes salgo a majenar con ellos\n",
            "\n",
            "Medios: normalmente busco información en infoBiker(infobiker.com.ar) o tambien busco iformacion en instagram en el grupo ciclista @la_plata_pedalea\n",
            "\n",
            "Tecnología: Desde bicicletas inteligentes hasta aplicaciones de entrenamiento personalizadas, dispositivos de navegación GPS y vestimenta y accesorios inteligentes, los avances tecnológicos han brindado a los ciclistas herramientas innovadoras para mejorar su rendimiento y experiencia en la bicicleta. La tecnología también ha permitido un análisis detallado del rendimiento, la capacidad de establecer metas personalizadas y un seguimiento preciso del progreso. Mantenerse actualizado sobre estas tendencias tecnológicas y compartir información relevante con los lectores de tu blog de ciclismo puede ser muy beneficioso para aquellos que buscan mejorar su experiencia en la bicicleta y maximizar su potencial en este deporte ejp bicicletas electricas,relojes intenligentes,lectores de frecuencia cardiaca,etc. El 71% de hombres practican el ciclismos y el 29% de mujeres tambien. pero los usuarios de bicicletas representan el 4% del pais.\n",
            "\n",
            "Titulo: La musica\n",
            "Diversión: La musica me deja una sensación de felicidad alegria y mucha pasion, trate de romance, perdida, cuente una historia o hable con metaforas, es una sensación que no se puede describir\n",
            "\n",
            "Familia: Comparto gustos de ciertas canciones pero en mi familia soy el único que toca instrumentos\n",
            "\n",
            "Amigos: En ciertas ocasiones nada más, es muy raro que se de el compartir mi gudto por la musica\n",
            "\n",
            "Medios: Youtube, YT music y diversas paginas, por ejemplo cuando quiero ver las tablaturas de una cancion busco y reviso varias versiones para ver cual es la mejor y la que mas se acerca\n",
            "\n",
            "Tecnología: En cuestiones de aprendizaje de tecnicas, acordes, lectura de tablaturas, en todo el aprendizaje ya que antes se tenia que ir a escuelas especificadas en eso, profesores privados o lugares publicos que enseñaban como el conservatorio de la Plata a veces quedando demasiado lejos\n",
            "la longitud de la variable es 21\n"
          ]
        }
      ]
    },
    {
      "cell_type": "markdown",
      "source": [],
      "metadata": {
        "id": "sBhNPldVgGJq"
      }
    },
    {
      "cell_type": "markdown",
      "source": [
        "## Contestar las siguientes consultas:\n",
        "* ¿Qué elementos les parece que no sería necesario guardar en la lista?\n",
        "* ¿Todos los elementos, de la nueva variable que usó para guardar el resultado de separar por cada nueva línea, contienen texto?\n",
        "* La estructura condicional de python  permite saber si un elemento de la lista, que se está recorriendo, contiene el caracter \":\"?\n",
        "```python\n",
        "if \":\" in i:\n",
        "      print(\"está\")\n",
        "```\n",
        "* ¿Cómo se denomina la parte de la estructura condicional?\n",
        "```python\n",
        "\":\" in i\n",
        "```\n",
        "* Recorra la lista consultando si en la línea que se encuentra contiene el caracter \":\"\n"
      ],
      "metadata": {
        "id": "OqJVlmZER5JV"
      }
    },
    {
      "cell_type": "code",
      "source": [
        "\"\"\"1respuesta: las lineas con espacio en blanco.\n",
        "2respuesta:no\n",
        "3respuesta:si, pero yo le agrege un else para indicar que lineas no tienen \":\"\n",
        "\n",
        "\"\"\"\n",
        "texto_completo = '''Titulo: Ciclismo\n",
        "Diversión: el ciclismo realmente me encanta por que es una forma de hacer ejercicio y no gastar dinero en el colectivo (principalmene por no gaster dinero)\n",
        "\n",
        "Familia: con mi familia comparto este hobby con mi hermano franco y mi hermana luciana(no manejan todos los dias pero algo es algo)\n",
        "\n",
        "Amigos: de lunes a viernes salgo a bicicletear pero con mis amigos normalmente 1 vez al mes salgo a majenar con ellos\n",
        "\n",
        "Medios: normalmente busco información en infoBiker(infobiker.com.ar) o tambien busco iformacion en instagram en el grupo ciclista @la_plata_pedalea\n",
        "\n",
        "Tecnología: Desde bicicletas inteligentes hasta aplicaciones de entrenamiento personalizadas, dispositivos de navegación GPS y vestimenta y accesorios inteligentes, los avances tecnológicos han brindado a los ciclistas herramientas innovadoras para mejorar su rendimiento y experiencia en la bicicleta. La tecnología también ha permitido un análisis detallado del rendimiento, la capacidad de establecer metas personalizadas y un seguimiento preciso del progreso. Mantenerse actualizado sobre estas tendencias tecnológicas y compartir información relevante con los lectores de tu blog de ciclismo puede ser muy beneficioso para aquellos que buscan mejorar su experiencia en la bicicleta y maximizar su potencial en este deporte ejp bicicletas electricas,relojes intenligentes,lectores de frecuencia cardiaca,etc. El 71% de hombres practican el ciclismos y el 29% de mujeres tambien. pero los usuarios de bicicletas representan el 4% del pais.\n",
        "Titulo: La musica\n",
        "Diversión: La musica me deja una sensación de felicidad alegria y mucha pasion, trate de romance, perdida, cuente una historia o hable con metaforas, es una sensación que no se puede describir\n",
        "\n",
        "Familia: Comparto gustos de ciertas canciones pero en mi familia soy el único que toca instrumentos\n",
        "\n",
        "Amigos: En ciertas ocasiones nada más, es muy raro que se de el compartir mi gudto por la musica\n",
        "\n",
        "Medios: Youtube, YT music y diversas paginas, por ejemplo cuando quiero ver las tablaturas de una cancion busco y reviso varias versiones para ver cual es la mejor y la que mas se acerca\n",
        "\n",
        "Tecnología: En cuestiones de aprendizaje de tecnicas, acordes, lectura de tablaturas, en todo el aprendizaje ya que antes se tenia que ir a escuelas especificadas en eso, profesores privados o lugares publicos que enseñaban como el conservatorio de la Plata a veces quedando demasiado lejos'''\n",
        "lista_texto = texto_completo.splitlines()\n",
        "for i in lista_texto:\n",
        "  if \":\" in i:\n",
        "    print(\"ESTA\")\n",
        "  else:\n",
        "    print(\"NO ESTA\")"
      ],
      "metadata": {
        "colab": {
          "base_uri": "https://localhost:8080/"
        },
        "id": "EDgmPP-FKKmb",
        "outputId": "e63bdde5-74c2-455a-faf4-dd494e748804"
      },
      "execution_count": 6,
      "outputs": [
        {
          "output_type": "stream",
          "name": "stdout",
          "text": [
            "ESTA\n",
            "ESTA\n",
            "NO ESTA\n",
            "ESTA\n",
            "NO ESTA\n",
            "ESTA\n",
            "NO ESTA\n",
            "ESTA\n",
            "NO ESTA\n",
            "ESTA\n",
            "ESTA\n",
            "ESTA\n",
            "NO ESTA\n",
            "ESTA\n",
            "NO ESTA\n",
            "ESTA\n",
            "NO ESTA\n",
            "ESTA\n",
            "NO ESTA\n",
            "ESTA\n",
            "<class 'list'>\n"
          ]
        }
      ]
    },
    {
      "cell_type": "code",
      "source": [
        "#completar con el código que recorre la variable lista e imprime por pantalla las líneas que contiene \":\"\n",
        "texto_completo = '''Titulo: Ciclismo\n",
        "Diversión: el ciclismo realmente me encanta por que es una forma de hacer ejercicio y no gastar dinero en el colectivo (principalmene por no gaster dinero)\n",
        "\n",
        "Familia: con mi familia comparto este hobby con mi hermano franco y mi hermana luciana(no manejan todos los dias pero algo es algo)\n",
        "\n",
        "Amigos: de lunes a viernes salgo a bicicletear pero con mis amigos normalmente 1 vez al mes salgo a majenar con ellos\n",
        "\n",
        "Medios: normalmente busco información en infoBiker(infobiker.com.ar) o tambien busco iformacion en instagram en el grupo ciclista @la_plata_pedalea\n",
        "\n",
        "Tecnología: Desde bicicletas inteligentes hasta aplicaciones de entrenamiento personalizadas, dispositivos de navegación GPS y vestimenta y accesorios inteligentes, los avances tecnológicos han brindado a los ciclistas herramientas innovadoras para mejorar su rendimiento y experiencia en la bicicleta. La tecnología también ha permitido un análisis detallado del rendimiento, la capacidad de establecer metas personalizadas y un seguimiento preciso del progreso. Mantenerse actualizado sobre estas tendencias tecnológicas y compartir información relevante con los lectores de tu blog de ciclismo puede ser muy beneficioso para aquellos que buscan mejorar su experiencia en la bicicleta y maximizar su potencial en este deporte ejp bicicletas electricas,relojes intenligentes,lectores de frecuencia cardiaca,etc. El 71% de hombres practican el ciclismos y el 29% de mujeres tambien. pero los usuarios de bicicletas representan el 4% del pais.\n",
        "\n",
        "Titulo: La musica\n",
        "Diversión: La musica me deja una sensación de felicidad alegria y mucha pasion, trate de romance, perdida, cuente una historia o hable con metaforas, es una sensación que no se puede describir\n",
        "\n",
        "Familia: Comparto gustos de ciertas canciones pero en mi familia soy el único que toca instrumentos\n",
        "\n",
        "Amigos: En ciertas ocasiones nada más, es muy raro que se de el compartir mi gudto por la musica\n",
        "\n",
        "Medios: Youtube, YT music y diversas paginas, por ejemplo cuando quiero ver las tablaturas de una cancion busco y reviso varias versiones para ver cual es la mejor y la que mas se acerca\n",
        "\n",
        "Tecnología: En cuestiones de aprendizaje de tecnicas, acordes, lectura de tablaturas, en todo el aprendizaje ya que antes se tenia que ir a escuelas especificadas en eso, profesores privados o lugares publicos que enseñaban como el conservatorio de la Plata a veces quedando demasiado lejos'''\n",
        "\n",
        "lista_texto = texto_completo.splitlines()\n",
        "for i in lista_texto:\n",
        "  if \":\" in i:\n",
        "    print(i)\n",
        "print(\"la longitud de la variable es\",len(lista_texto))"
      ],
      "metadata": {
        "id": "PrSXHjecb5Lw",
        "colab": {
          "base_uri": "https://localhost:8080/"
        },
        "outputId": "7bdc1edd-1e69-410d-ecbe-805527184603"
      },
      "execution_count": 2,
      "outputs": [
        {
          "output_type": "stream",
          "name": "stdout",
          "text": [
            "Titulo: Ciclismo\n",
            "Diversión: el ciclismo realmente me encanta por que es una forma de hacer ejercicio y no gastar dinero en el colectivo (principalmene por no gaster dinero)\n",
            "Familia: con mi familia comparto este hobby con mi hermano franco y mi hermana luciana(no manejan todos los dias pero algo es algo)\n",
            "Amigos: de lunes a viernes salgo a bicicletear pero con mis amigos normalmente 1 vez al mes salgo a majenar con ellos\n",
            "Medios: normalmente busco información en infoBiker(infobiker.com.ar) o tambien busco iformacion en instagram en el grupo ciclista @la_plata_pedalea\n",
            "Tecnología: Desde bicicletas inteligentes hasta aplicaciones de entrenamiento personalizadas, dispositivos de navegación GPS y vestimenta y accesorios inteligentes, los avances tecnológicos han brindado a los ciclistas herramientas innovadoras para mejorar su rendimiento y experiencia en la bicicleta. La tecnología también ha permitido un análisis detallado del rendimiento, la capacidad de establecer metas personalizadas y un seguimiento preciso del progreso. Mantenerse actualizado sobre estas tendencias tecnológicas y compartir información relevante con los lectores de tu blog de ciclismo puede ser muy beneficioso para aquellos que buscan mejorar su experiencia en la bicicleta y maximizar su potencial en este deporte ejp bicicletas electricas,relojes intenligentes,lectores de frecuencia cardiaca,etc. El 71% de hombres practican el ciclismos y el 29% de mujeres tambien. pero los usuarios de bicicletas representan el 4% del pais.\n",
            "Titulo: La musica\n",
            "Diversión: La musica me deja una sensación de felicidad alegria y mucha pasion, trate de romance, perdida, cuente una historia o hable con metaforas, es una sensación que no se puede describir\n",
            "Familia: Comparto gustos de ciertas canciones pero en mi familia soy el único que toca instrumentos\n",
            "Amigos: En ciertas ocasiones nada más, es muy raro que se de el compartir mi gudto por la musica\n",
            "Medios: Youtube, YT music y diversas paginas, por ejemplo cuando quiero ver las tablaturas de una cancion busco y reviso varias versiones para ver cual es la mejor y la que mas se acerca\n",
            "Tecnología: En cuestiones de aprendizaje de tecnicas, acordes, lectura de tablaturas, en todo el aprendizaje ya que antes se tenia que ir a escuelas especificadas en eso, profesores privados o lugares publicos que enseñaban como el conservatorio de la Plata a veces quedando demasiado lejos\n",
            "la longitud de la variable es 21\n"
          ]
        }
      ]
    },
    {
      "cell_type": "markdown",
      "source": [
        "\n",
        "1. Indicar qué tipos de datos se utilizaron en este documento.\n",
        "2. Por cada tipo de datos de los ejemplos, indique cuáles son las variables utilizadas en esta actividad de ese tipo.\n",
        "3. ¿Qué estructuras de datos que permite almacenar más de un elemento, utilizó en esta actividad? De los nombres de las variables que correspondan a este tipo de datos.\n",
        "4. Investigar en chatgpt: ¿qué estructura podría ser más eficiente utilizar para guardar datos que estén relacionados entre sí y el acceso a ciertas claves sea directo sin tener que recorrer la estructura?\n",
        "5. ¿Cómo se podría guardar los datos de los hobbies para poder acceder directamente a las respuestas de cada integrante? ¿qué estructura y cómo la armaría? Indicar cómo le quedaría sin hacerlo en python sino escribiendo la forma de cómo quedaría."
      ],
      "metadata": {
        "id": "GZCJ7WEmBL4I"
      }
    },
    {
      "cell_type": "markdown",
      "source": [
        "1respuesta: datos tipo srt,list\n",
        "\n",
        "2respeusta:texto_completo,i,texto1,texto2:\"str\"\n",
        "y lista_texto:list\n",
        "\n",
        "3respuesta: listas lista_texto\n",
        "\n",
        "4respuesta: respuesta de chatgpt:Una estructura de datos que podría ser eficiente para guardar datos relacionados entre sí y permitir un acceso directo a ciertas claves sin necesidad de recorrer la estructura es el diccionario o mapa, dependiendo del lenguaje de programación que estés utilizando.\n",
        "\n",
        "En la mayoría de los lenguajes de programación, los diccionarios o mapas implementan tablas hash, que son eficientes para recuperar valores basados en una clave específica en tiempo constante (O(1)). Esto significa que no importa cuántos elementos haya en la estructura, el tiempo necesario para acceder a un valor asociado a una clave determinada es casi constante.\n",
        "\n",
        "Por ejemplo, en Python, puedes usar un diccionario para asociar claves con valores de manera eficiente:\n",
        "\n"
      ],
      "metadata": {
        "id": "FYYJU4YkL0Gl"
      }
    },
    {
      "cell_type": "code",
      "source": [
        "mi_diccionario = {\n",
        "    \"clave1\": valor1,\n",
        "    \"clave2\": valor2,\n",
        "    \"clave3\": valor3,\n",
        "    # ...\n",
        "}"
      ],
      "metadata": {
        "id": "938ro8qc1Zkh"
      },
      "execution_count": null,
      "outputs": []
    },
    {
      "cell_type": "markdown",
      "source": [
        "Luego, puedes acceder a los valores asociados a las claves de forma directa:"
      ],
      "metadata": {
        "id": "WAxcP6Yn1dJa"
      }
    },
    {
      "cell_type": "code",
      "source": [
        "print(mi_diccionario[\"clave1\"])  # Imprimirá el valor asociado a \"clave1\""
      ],
      "metadata": {
        "id": "HD1j9WYJ1gbn"
      },
      "execution_count": null,
      "outputs": []
    },
    {
      "cell_type": "markdown",
      "source": [
        "En otros lenguajes de programación, como Java, puedes usar la interfaz Map y su implementación HashMap para lograr resultados similares.\n",
        "\n",
        "\n",
        "\n",
        "\n",
        "\n"
      ],
      "metadata": {
        "id": "s2lYcN-U1isC"
      }
    },
    {
      "cell_type": "markdown",
      "source": [
        "5respuesta: podria usar un extrutura de tipo diccionario donde las claves sean los nombres de los integrantes (en este caso yo y el otro random).\n",
        "\n",
        "ejemplo:\n",
        "\n",
        "diccionario_de_agaunte_boca_digo_hobbys={\n",
        "\n",
        "  homero_sinson[\"comer rosquillas\",\"torneo de bebidas alcoholicas\",\"robalres herramientas a ned flander\"],\n",
        "  \n",
        "   leo_messi[\"hacer llorar franceses\",\"opacar a cristiano ronaldo\",\"humillar a cristiano ronaldo\"]\n",
        "\n",
        "}\n"
      ],
      "metadata": {
        "id": "Ag9K6hib2G75"
      }
    },
    {
      "cell_type": "markdown",
      "source": [
        "## Tips de manejo de string\n",
        "* Utiliza la función split() para dividir el texto en palabras. Por ejemplo, texto.split() devolverá una lista de palabras.\n",
        "\n",
        "* Utiliza la función strip() para eliminar espacios en blanco al inicio y al final del texto. Por ejemplo, texto.strip() devolverá el texto sin espacios en blanco innecesarios.\n",
        "\n",
        "* Utiliza el método splitlines() para dividir el texto en líneas. Por ejemplo, texto.splitlines() devolverá una lista de líneas.\n",
        "\n",
        "* Utiliza el método replace() para reemplazar una subcadena por otra en un string. Por ejemplo, \"Hola mundo\".replace(\"mundo\", \"amigos\") devolverá el string \"Hola amigos\".\n",
        "\n",
        "* Utiliza el módulo string para manipular texto de forma eficiente. Por ejemplo, string.ascii_lowercase devolverá una cadena de texto con todas las letras minúsculas del alfabeto.\n",
        "\n",
        "* Utiliza la función startswith() para comprobar si una cadena de texto empieza con un determinado prefijo. Por ejemplo, texto.startswith('Hola') devolverá True si el texto empieza con la palabra \"Hola\".\n",
        "\n",
        "* Utiliza la función endswith() para comprobar si una cadena de texto termina con un determinado sufijo. Por ejemplo, texto.endswith('mundo') devolverá True si el texto termina con la palabra \"mundo\".\n",
        "\n",
        "* Utiliza la función isalpha() para comprobar si una cadena de texto contiene solamente letras. Por ejemplo, texto.isalpha() devolverá True si el texto contiene solamente letras.\n",
        "\n",
        "* Utiliza la función isdigit() para comprobar si una cadena de texto contiene solamente números. Por ejemplo, texto.isdigit() devolverá True si el texto contiene solamente números.\n",
        "\n"
      ],
      "metadata": {
        "id": "KAD0Vv2o8xQV"
      }
    }
  ]
}